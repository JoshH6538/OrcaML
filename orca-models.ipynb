{
 "cells": [
  {
   "cell_type": "markdown",
   "id": "7999e9df-9b4d-41be-bb26-7e8fc0cd958c",
   "metadata": {},
   "source": [
    "## Step 1: Load the MFCC + Delta Dataset\n",
    "\n",
    "We load a balanced dataset of 100 orca call clips and 100 non-orca clips (from file 61062.wav), each with 26 MFCC-based features and metadata.\n"
   ]
  },
  {
   "cell_type": "code",
   "execution_count": 3,
   "id": "1ad2daca-1da0-469a-b0a7-f7a9e25a554a",
   "metadata": {},
   "outputs": [
    {
     "name": "stdout",
     "output_type": "stream",
     "text": [
      "Loaded 200 clips\n"
     ]
    },
    {
     "data": {
      "text/html": [
       "<div>\n",
       "<style scoped>\n",
       "    .dataframe tbody tr th:only-of-type {\n",
       "        vertical-align: middle;\n",
       "    }\n",
       "\n",
       "    .dataframe tbody tr th {\n",
       "        vertical-align: top;\n",
       "    }\n",
       "\n",
       "    .dataframe thead th {\n",
       "        text-align: right;\n",
       "    }\n",
       "</style>\n",
       "<table border=\"1\" class=\"dataframe\">\n",
       "  <thead>\n",
       "    <tr style=\"text-align: right;\">\n",
       "      <th></th>\n",
       "      <th>clip_name</th>\n",
       "      <th>label</th>\n",
       "      <th>source_wav</th>\n",
       "      <th>start_time</th>\n",
       "      <th>mfcc_1</th>\n",
       "      <th>mfcc_2</th>\n",
       "      <th>mfcc_3</th>\n",
       "      <th>mfcc_4</th>\n",
       "      <th>mfcc_5</th>\n",
       "      <th>mfcc_6</th>\n",
       "      <th>...</th>\n",
       "      <th>delta_mfcc_4</th>\n",
       "      <th>delta_mfcc_5</th>\n",
       "      <th>delta_mfcc_6</th>\n",
       "      <th>delta_mfcc_7</th>\n",
       "      <th>delta_mfcc_8</th>\n",
       "      <th>delta_mfcc_9</th>\n",
       "      <th>delta_mfcc_10</th>\n",
       "      <th>delta_mfcc_11</th>\n",
       "      <th>delta_mfcc_12</th>\n",
       "      <th>delta_mfcc_13</th>\n",
       "    </tr>\n",
       "  </thead>\n",
       "  <tbody>\n",
       "    <tr>\n",
       "      <th>0</th>\n",
       "      <td>clip_00001_60012_34_13.wav</td>\n",
       "      <td>orca_call</td>\n",
       "      <td>60012.wav</td>\n",
       "      <td>34.126</td>\n",
       "      <td>-356.126050</td>\n",
       "      <td>145.069680</td>\n",
       "      <td>20.392100</td>\n",
       "      <td>53.606201</td>\n",
       "      <td>29.415101</td>\n",
       "      <td>26.547564</td>\n",
       "      <td>...</td>\n",
       "      <td>0.148667</td>\n",
       "      <td>0.122785</td>\n",
       "      <td>0.114433</td>\n",
       "      <td>-0.029118</td>\n",
       "      <td>-0.117118</td>\n",
       "      <td>-0.057980</td>\n",
       "      <td>0.100984</td>\n",
       "      <td>0.049446</td>\n",
       "      <td>-0.033534</td>\n",
       "      <td>0.033400</td>\n",
       "    </tr>\n",
       "    <tr>\n",
       "      <th>1</th>\n",
       "      <td>clip_00002_60012_36_82.wav</td>\n",
       "      <td>orca_call</td>\n",
       "      <td>60012.wav</td>\n",
       "      <td>36.816</td>\n",
       "      <td>-394.869204</td>\n",
       "      <td>146.511138</td>\n",
       "      <td>28.984497</td>\n",
       "      <td>52.168956</td>\n",
       "      <td>30.246794</td>\n",
       "      <td>26.095257</td>\n",
       "      <td>...</td>\n",
       "      <td>-0.070447</td>\n",
       "      <td>-0.023855</td>\n",
       "      <td>-0.086925</td>\n",
       "      <td>-0.058639</td>\n",
       "      <td>0.016588</td>\n",
       "      <td>0.018084</td>\n",
       "      <td>0.018493</td>\n",
       "      <td>0.027816</td>\n",
       "      <td>-0.066376</td>\n",
       "      <td>-0.058599</td>\n",
       "    </tr>\n",
       "    <tr>\n",
       "      <th>2</th>\n",
       "      <td>clip_00003_60012_42_55.wav</td>\n",
       "      <td>orca_call</td>\n",
       "      <td>60012.wav</td>\n",
       "      <td>42.550</td>\n",
       "      <td>-326.940821</td>\n",
       "      <td>144.309463</td>\n",
       "      <td>11.898505</td>\n",
       "      <td>60.113936</td>\n",
       "      <td>34.170969</td>\n",
       "      <td>24.381650</td>\n",
       "      <td>...</td>\n",
       "      <td>0.008290</td>\n",
       "      <td>-0.296946</td>\n",
       "      <td>-0.394073</td>\n",
       "      <td>0.212367</td>\n",
       "      <td>0.419522</td>\n",
       "      <td>0.215955</td>\n",
       "      <td>-0.155136</td>\n",
       "      <td>-0.334183</td>\n",
       "      <td>-0.063537</td>\n",
       "      <td>0.136748</td>\n",
       "    </tr>\n",
       "    <tr>\n",
       "      <th>3</th>\n",
       "      <td>clip_00004_60012_44_61.wav</td>\n",
       "      <td>orca_call</td>\n",
       "      <td>60012.wav</td>\n",
       "      <td>44.606</td>\n",
       "      <td>-325.914027</td>\n",
       "      <td>146.352923</td>\n",
       "      <td>19.055977</td>\n",
       "      <td>55.299895</td>\n",
       "      <td>26.766931</td>\n",
       "      <td>21.336908</td>\n",
       "      <td>...</td>\n",
       "      <td>-0.142354</td>\n",
       "      <td>0.185389</td>\n",
       "      <td>-0.033508</td>\n",
       "      <td>-0.147239</td>\n",
       "      <td>0.085504</td>\n",
       "      <td>0.092036</td>\n",
       "      <td>-0.126645</td>\n",
       "      <td>-0.182172</td>\n",
       "      <td>0.069591</td>\n",
       "      <td>0.302079</td>\n",
       "    </tr>\n",
       "    <tr>\n",
       "      <th>4</th>\n",
       "      <td>clip_00005_60012_46_64.wav</td>\n",
       "      <td>orca_call</td>\n",
       "      <td>60012.wav</td>\n",
       "      <td>46.636</td>\n",
       "      <td>-367.949612</td>\n",
       "      <td>150.654971</td>\n",
       "      <td>29.788334</td>\n",
       "      <td>53.644457</td>\n",
       "      <td>31.062500</td>\n",
       "      <td>29.896237</td>\n",
       "      <td>...</td>\n",
       "      <td>-0.155918</td>\n",
       "      <td>-0.036402</td>\n",
       "      <td>-0.101123</td>\n",
       "      <td>0.055592</td>\n",
       "      <td>0.123688</td>\n",
       "      <td>0.070961</td>\n",
       "      <td>-0.048527</td>\n",
       "      <td>-0.035302</td>\n",
       "      <td>0.039338</td>\n",
       "      <td>0.053824</td>\n",
       "    </tr>\n",
       "  </tbody>\n",
       "</table>\n",
       "<p>5 rows × 30 columns</p>\n",
       "</div>"
      ],
      "text/plain": [
       "                    clip_name      label source_wav  start_time      mfcc_1  \\\n",
       "0  clip_00001_60012_34_13.wav  orca_call  60012.wav      34.126 -356.126050   \n",
       "1  clip_00002_60012_36_82.wav  orca_call  60012.wav      36.816 -394.869204   \n",
       "2  clip_00003_60012_42_55.wav  orca_call  60012.wav      42.550 -326.940821   \n",
       "3  clip_00004_60012_44_61.wav  orca_call  60012.wav      44.606 -325.914027   \n",
       "4  clip_00005_60012_46_64.wav  orca_call  60012.wav      46.636 -367.949612   \n",
       "\n",
       "       mfcc_2     mfcc_3     mfcc_4     mfcc_5     mfcc_6  ...  delta_mfcc_4  \\\n",
       "0  145.069680  20.392100  53.606201  29.415101  26.547564  ...      0.148667   \n",
       "1  146.511138  28.984497  52.168956  30.246794  26.095257  ...     -0.070447   \n",
       "2  144.309463  11.898505  60.113936  34.170969  24.381650  ...      0.008290   \n",
       "3  146.352923  19.055977  55.299895  26.766931  21.336908  ...     -0.142354   \n",
       "4  150.654971  29.788334  53.644457  31.062500  29.896237  ...     -0.155918   \n",
       "\n",
       "   delta_mfcc_5  delta_mfcc_6  delta_mfcc_7  delta_mfcc_8  delta_mfcc_9  \\\n",
       "0      0.122785      0.114433     -0.029118     -0.117118     -0.057980   \n",
       "1     -0.023855     -0.086925     -0.058639      0.016588      0.018084   \n",
       "2     -0.296946     -0.394073      0.212367      0.419522      0.215955   \n",
       "3      0.185389     -0.033508     -0.147239      0.085504      0.092036   \n",
       "4     -0.036402     -0.101123      0.055592      0.123688      0.070961   \n",
       "\n",
       "   delta_mfcc_10  delta_mfcc_11  delta_mfcc_12  delta_mfcc_13  \n",
       "0       0.100984       0.049446      -0.033534       0.033400  \n",
       "1       0.018493       0.027816      -0.066376      -0.058599  \n",
       "2      -0.155136      -0.334183      -0.063537       0.136748  \n",
       "3      -0.126645      -0.182172       0.069591       0.302079  \n",
       "4      -0.048527      -0.035302       0.039338       0.053824  \n",
       "\n",
       "[5 rows x 30 columns]"
      ]
     },
     "execution_count": 3,
     "metadata": {},
     "output_type": "execute_result"
    }
   ],
   "source": [
    "import pandas as pd\n",
    "\n",
    "# Load dataset\n",
    "df = pd.read_csv(\"mfcc_balanced_100x100.csv\")\n",
    "\n",
    "# Show size and sample\n",
    "print(f\"Loaded {len(df)} clips\")\n",
    "df.head()\n"
   ]
  },
  {
   "cell_type": "markdown",
   "id": "e688fd46-b2c0-4be7-ad58-5dfb4583bbd6",
   "metadata": {},
   "source": [
    "## Step 2: Prepare Features and Labels\n",
    "\n",
    "We extract the 13 MFCC and 13 delta MFCC features as model inputs (`X`) and convert the `label` column to binary values for classification (`y`).\n"
   ]
  },
  {
   "cell_type": "code",
   "execution_count": 4,
   "id": "9aa1bf83-636c-4b3a-9980-c68fb7723482",
   "metadata": {},
   "outputs": [
    {
     "name": "stdout",
     "output_type": "stream",
     "text": [
      "X shape: (200, 26)\n",
      "y distribution:\n",
      "label\n",
      "1    100\n",
      "0    100\n",
      "Name: count, dtype: int64\n"
     ]
    }
   ],
   "source": [
    "# Extract feature columns (everything starting with 'mfcc' or 'delta_mfcc')\n",
    "feature_cols = [col for col in df.columns if col.startswith(\"mfcc\") or col.startswith(\"delta_mfcc\")]\n",
    "\n",
    "X = df[feature_cols]\n",
    "y = df[\"label\"].map({\"no_call\": 0, \"orca_call\": 1})  # convert to numeric\n",
    "\n",
    "print(f\"X shape: {X.shape}\")\n",
    "print(f\"y distribution:\\n{y.value_counts()}\")\n"
   ]
  },
  {
   "cell_type": "markdown",
   "id": "5b34d553-2444-4dbf-9679-bcb982afecca",
   "metadata": {},
   "source": [
    "## Step 3: Train/Test Split and Standardization\n",
    "\n",
    "We split the dataset into training and testing sets, and standardize the feature values to have zero mean and unit variance. This prepares the data for model training.\n"
   ]
  },
  {
   "cell_type": "code",
   "execution_count": 5,
   "id": "d5a26b09-3c1b-435e-a190-3051472d8bd2",
   "metadata": {},
   "outputs": [
    {
     "name": "stdout",
     "output_type": "stream",
     "text": [
      "✅ Feature scaling complete\n",
      "Train size: 160, Test size: 40\n"
     ]
    }
   ],
   "source": [
    "from sklearn.model_selection import train_test_split\n",
    "from sklearn.preprocessing import StandardScaler\n",
    "\n",
    "# Split into training and test sets (stratified to preserve class balance)\n",
    "X_train, X_test, y_train, y_test = train_test_split(\n",
    "    X, y, test_size=0.2, random_state=42, stratify=y\n",
    ")\n",
    "\n",
    "# Standardize the features\n",
    "scaler = StandardScaler()\n",
    "X_train_scaled = scaler.fit_transform(X_train)\n",
    "X_test_scaled = scaler.transform(X_test)\n",
    "\n",
    "print(\"Feature scaling complete\")\n",
    "print(f\"Train size: {X_train.shape[0]}, Test size: {X_test.shape[0]}\")\n"
   ]
  },
  {
   "cell_type": "markdown",
   "id": "75480e9b-c473-4407-bd69-7ca5b0b299c0",
   "metadata": {},
   "source": [
    "## Step 4: Train Logistic Regression Model\n",
    "\n",
    "We train a logistic regression model using the standardized MFCC and delta features. Then we evaluate the model’s precision, recall, and overall accuracy on the test set.\n"
   ]
  },
  {
   "cell_type": "code",
   "execution_count": 6,
   "id": "53ba154e-4e71-418a-804b-f7920fb024ce",
   "metadata": {},
   "outputs": [
    {
     "name": "stdout",
     "output_type": "stream",
     "text": [
      "✅ Logistic Regression Results\n",
      "Confusion Matrix:\n",
      "[[17  3]\n",
      " [ 0 20]]\n",
      "\n",
      "Classification Report:\n",
      "              precision    recall  f1-score   support\n",
      "\n",
      "     no_call       1.00      0.85      0.92        20\n",
      "   orca_call       0.87      1.00      0.93        20\n",
      "\n",
      "    accuracy                           0.93        40\n",
      "   macro avg       0.93      0.93      0.92        40\n",
      "weighted avg       0.93      0.93      0.92        40\n",
      "\n"
     ]
    }
   ],
   "source": [
    "from sklearn.linear_model import LogisticRegression\n",
    "from sklearn.metrics import classification_report, confusion_matrix\n",
    "\n",
    "# Train the model\n",
    "model = LogisticRegression()\n",
    "model.fit(X_train_scaled, y_train)\n",
    "\n",
    "# Predict on test set\n",
    "y_pred = model.predict(X_test_scaled)\n",
    "\n",
    "# Evaluate\n",
    "print(\"✅ Logistic Regression Results\")\n",
    "print(\"Confusion Matrix:\")\n",
    "print(confusion_matrix(y_test, y_pred))\n",
    "\n",
    "print(\"\\nClassification Report:\")\n",
    "print(classification_report(y_test, y_pred, target_names=[\"no_call\", \"orca_call\"]))\n"
   ]
  },
  {
   "cell_type": "markdown",
   "id": "9df15b23-328d-4277-9237-488d8b57fb4e",
   "metadata": {},
   "source": [
    "## Step 5a: Confusion Matrix Heatmap\n",
    "\n",
    "We visualize the model’s prediction results to see how often it correctly identifies orca and no_call clips.\n"
   ]
  },
  {
   "cell_type": "code",
   "execution_count": 7,
   "id": "2bf7726c-aa83-4186-a4be-f6ea360c45bf",
   "metadata": {},
   "outputs": [
    {
     "data": {
      "image/png": "[encoded data removed]",
      "text/plain": [
       "<Figure size 640x480 with 2 Axes>"
      ]
     },
     "metadata": {},
     "output_type": "display_data"
    }
   ],
   "source": [
    "import seaborn as sns\n",
    "import matplotlib.pyplot as plt\n",
    "from sklearn.metrics import ConfusionMatrixDisplay\n",
    "\n",
    "# Plot confusion matrix\n",
    "disp = ConfusionMatrixDisplay.from_estimator(\n",
    "    model, X_test_scaled, y_test,\n",
    "    display_labels=[\"no_call\", \"orca_call\"],\n",
    "    cmap=\"Blues\",\n",
    "    values_format=\"d\"\n",
    ")\n",
    "\n",
    "plt.title(\"Confusion Matrix\")\n",
    "plt.show()\n"
   ]
  },
  {
   "cell_type": "markdown",
   "id": "5b7b4fb1-e08d-411a-b7f7-f62b16f7bbe8",
   "metadata": {},
   "source": [
    "## Step 5b: Logistic Regression Feature Weights\n",
    "\n",
    "We plot the model’s learned coefficients to understand which MFCC and delta MFCC features most influence the prediction.\n"
   ]
  },
  {
   "cell_type": "code",
   "execution_count": 8,
   "id": "da6fab6d-4554-4279-bf2e-fdda0e46872d",
   "metadata": {},
   "outputs": [
    {
     "data": {
      "image/png": "[encoded data removed]",
      "text/plain": [
       "<Figure size 1200x500 with 1 Axes>"
      ]
     },
     "metadata": {},
     "output_type": "display_data"
    }
   ],
   "source": [
    "# Get feature names and weights\n",
    "import numpy as np\n",
    "\n",
    "coefficients = model.coef_[0]\n",
    "feature_names = X.columns  # same order as X_train\n",
    "\n",
    "# Sort by absolute importance\n",
    "sorted_indices = np.argsort(np.abs(coefficients))[::-1]\n",
    "\n",
    "plt.figure(figsize=(12, 5))\n",
    "sns.barplot(x=coefficients[sorted_indices], y=feature_names[sorted_indices])\n",
    "plt.title(\"Logistic Regression Feature Weights\")\n",
    "plt.xlabel(\"Weight\")\n",
    "plt.ylabel(\"Feature\")\n",
    "plt.axvline(0, color='gray', linestyle='--')\n",
    "plt.tight_layout()\n",
    "plt.show()\n"
   ]
  },
  {
   "cell_type": "markdown",
   "id": "dc7a9889-9e89-4f2f-96ba-7d7bad4f4550",
   "metadata": {},
   "source": [
    "## Step 6: Train Random Forest Classifier\n",
    "\n",
    "We train a Random Forest model on the same MFCC and delta features, and compare its performance to the logistic regression baseline.\n"
   ]
  },
  {
   "cell_type": "code",
   "execution_count": 10,
   "id": "ba66e9b3-225b-47ef-abb5-68da72c41ec1",
   "metadata": {},
   "outputs": [
    {
     "name": "stdout",
     "output_type": "stream",
     "text": [
      "Random Forest Results\n",
      "Confusion Matrix:\n",
      "[[17  3]\n",
      " [ 0 20]]\n",
      "\n",
      "Classification Report:\n",
      "              precision    recall  f1-score   support\n",
      "\n",
      "     no_call       1.00      0.85      0.92        20\n",
      "   orca_call       0.87      1.00      0.93        20\n",
      "\n",
      "    accuracy                           0.93        40\n",
      "   macro avg       0.93      0.93      0.92        40\n",
      "weighted avg       0.93      0.93      0.92        40\n",
      "\n"
     ]
    }
   ],
   "source": [
    "from sklearn.ensemble import RandomForestClassifier\n",
    "\n",
    "# Train the model\n",
    "rf_model = RandomForestClassifier(random_state=42)\n",
    "rf_model.fit(X_train_scaled, y_train)\n",
    "\n",
    "# Predict\n",
    "y_pred_rf = rf_model.predict(X_test_scaled)\n",
    "\n",
    "# Evaluate\n",
    "print(\"Random Forest Results\")\n",
    "print(\"Confusion Matrix:\")\n",
    "print(confusion_matrix(y_test, y_pred_rf))\n",
    "\n",
    "print(\"\\nClassification Report:\")\n",
    "print(classification_report(y_test, y_pred_rf, target_names=[\"no_call\", \"orca_call\"]))\n"
   ]
  }
 ],
 "metadata": {
  "kernelspec": {
   "display_name": "Python 3 (ipykernel)",
   "language": "python",
   "name": "python3"
  },
  "language_info": {
   "codemirror_mode": {
    "name": "ipython",
    "version": 3
   },
   "file_extension": ".py",
   "mimetype": "text/x-python",
   "name": "python",
   "nbconvert_exporter": "python",
   "pygments_lexer": "ipython3",
   "version": "3.12.10"
  }
 },
 "nbformat": 4,
 "nbformat_minor": 5
}
